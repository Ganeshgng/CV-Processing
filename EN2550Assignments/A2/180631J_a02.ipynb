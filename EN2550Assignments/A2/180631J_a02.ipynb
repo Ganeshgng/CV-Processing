{
 "cells": [
  {
   "cell_type": "markdown",
   "metadata": {},
   "source": [
    "# 1 1. 2-D Transforms"
   ]
  },
  {
   "cell_type": "code",
   "execution_count": 21,
   "metadata": {},
   "outputs": [],
   "source": [
    "import matplotlib.pyplot as plt\n",
    "import numpy as np\n",
    "import cv2 as cv\n",
    "import string"
   ]
  },
  {
   "cell_type": "code",
   "execution_count": 22,
   "metadata": {},
   "outputs": [],
   "source": [
    "def saveto(filename):\n",
    "    plt.savefig('LaTeX Report/figures/'+ filename)\n",
    "\n",
    "def saveimg(filename, image):\n",
    "    cv.imwrite('LaTeX Report/figures/'+ filename,image)"
   ]
  },
  {
   "cell_type": "code",
   "execution_count": 23,
   "metadata": {},
   "outputs": [],
   "source": [
    "# points a, b and, c\n",
    "a, b, c, d = (0, 0, 1), (0, 1, 1), (1, 1, 1), (1, 0, 1)\n",
    "# matrix with row vectors of points\n",
    "P = np.array([a, b, c, d]).T"
   ]
  },
  {
   "cell_type": "code",
   "execution_count": 24,
   "metadata": {},
   "outputs": [],
   "source": [
    "# Translation\n",
    "t = 1 # translation along each axis\n",
    "H = [[1,0,t],[0,1,t],[0,0,1]]\n",
    "Pt = np.matmul(H, P)"
   ]
  },
  {
   "cell_type": "code",
   "execution_count": 25,
   "metadata": {},
   "outputs": [],
   "source": [
    "# Rotation \n",
    "theta = np.pi/4 # Anti clockwise pi/4 rad rotation\n",
    "H = [[np.cos(theta), -np.sin(theta), 0.], [np.sin(theta), np.cos(theta), 0.], [0., 0., 1.]]\n",
    "Pt = np.matmul(H, P)"
   ]
  },
  {
   "cell_type": "code",
   "execution_count": 26,
   "metadata": {},
   "outputs": [],
   "source": [
    "# Rotation + translation.(2D Euclidean transformation)\n",
    "H = [[np.cos(theta), -np.sin(theta), t], [np.sin(theta), np.cos(theta), t], [0., 0., 1.]]\n",
    "Pt = np.matmul(H, P)"
   ]
  },
  {
   "cell_type": "code",
   "execution_count": 27,
   "metadata": {},
   "outputs": [],
   "source": [
    "# Scaled rotation (similarity transform)\n",
    "s = 0.5\n",
    "H = [[s*np.cos(theta), -s*np.sin(theta), t], [s*np.sin(theta), s*np.cos(theta), t], [0., 0., 1.]]\n",
    "Pt = np.matmul(H, P)"
   ]
  },
  {
   "cell_type": "code",
   "execution_count": 28,
   "metadata": {},
   "outputs": [],
   "source": [
    "# Affine Parallel lines remain parallel under affine transformation\n",
    "a00 = 3 ; a01 = 2 ; a02 = 3\n",
    "a10 = 1 ; a11 = 3 ; a12 = 3\n",
    "H = [[a00, a01, a02],[a10, a11, a12],[0, 0, 1]]\n",
    "Pt = np.matmul(H, P)"
   ]
  },
  {
   "cell_type": "code",
   "execution_count": 29,
   "metadata": {},
   "outputs": [],
   "source": [
    "# Projective(perspective transform or homography)\n",
    "a20 = 1.5 ; a21 = 2; a22 = 1\n",
    "H = [[a00, a01, a02],[a10, a11, a12],[a20,a21,a22]]\n",
    "Pt = np.matmul(H, P)"
   ]
  },
  {
   "cell_type": "code",
   "execution_count": 30,
   "metadata": {},
   "outputs": [
    {
     "name": "stderr",
     "output_type": "stream",
     "text": [
      "The PostScript backend does not support transparency; partially transparent artists will be rendered opaque.\n",
      "The PostScript backend does not support transparency; partially transparent artists will be rendered opaque.\n"
     ]
    },
    {
     "data": {
      "image/png": "[encoded data removed]",
      "text/plain": [
       "<Figure size 432x288 with 1 Axes>"
      ]
     },
     "metadata": {
      "needs_background": "light"
     },
     "output_type": "display_data"
    }
   ],
   "source": [
    "P = P/P[-1, :]\n",
    "P = np.insert(P,4,P[:,0],axis=1)\n",
    "x = P[0, :]\n",
    "y = P[1, :]\n",
    "Pt = Pt/Pt[-1, :]\n",
    "Pt = np.insert(Pt,4,Pt[:,0],axis=1)\n",
    "xt = Pt[0, :]\n",
    "yt = Pt[1, :]\n",
    "fig, ax = plt.subplots(1,1, sharex=True, sharey=True)\n",
    "ax.plot(x, y, color='#6699cc', alpha=0.7,linewidth=3, solid_capstyle='round', zorder=2)\n",
    "ax.set_aspect('equal')\n",
    "ax.plot(xt, yt, color='#ff00cc', alpha=0.7,linewidth=3, solid_capstyle='round', zorder=2)\n",
    "ax.set_aspect('equal')\n",
    "saveto('Projective.eps')"
   ]
  },
  {
   "cell_type": "markdown",
   "metadata": {},
   "source": [
    "# 2 2. Warping Using a Given Homography"
   ]
  },
  {
   "cell_type": "code",
   "execution_count": 31,
   "metadata": {},
   "outputs": [
    {
     "name": "stdout",
     "output_type": "stream",
     "text": [
      "[[0.62544644, 0.057759174, 222.01217], [0.22240536, 1.1652147, -25.605611], [0.00049212545, -3.6542424e-05, 1.0]]\n"
     ]
    }
   ],
   "source": [
    "im1 = cv.imread('../images/graf/img1.ppm', cv.IMREAD_ANYCOLOR)\n",
    "saveimg('im1.png', im1)\n",
    "im5 = cv.imread('../images/graf/img5.ppm', cv.IMREAD_ANYCOLOR)\n",
    "saveimg('im5.png', im5)\n",
    "with open('../images/graf/H1to5p') as f:\n",
    "    H = [[float(x) for x in line.split()] for line in f]\n",
    "print(H)\n",
    "H = np.array(H)\n",
    "im5_warped = cv.warpPerspective(im5, np.linalg.inv(H), (900,900))\n",
    "saveimg('im5warped.png', im5_warped)\n",
    "im5_warped[0:im1.shape[0], 0:im1.shape[1]] = im1\n",
    "saveimg('im5warped2.png', im5_warped)\n",
    "\n",
    "# cv.namedWindow(\"Image 1\", cv.WINDOW_AUTOSIZE)\n",
    "# cv.imshow(\"Image 1\", im1)\n",
    "# cv.waitKey(0)\n",
    "# cv.namedWindow(\"Image 5\", cv.WINDOW_AUTOSIZE)\n",
    "# cv.imshow(\"Image 5\", im5)\n",
    "# cv.waitKey(0)\n",
    "# cv.namedWindow(\"Image 5 Warped\", cv.WINDOW_AUTOSIZE)\n",
    "# cv.imshow(\"Image 5 Warped\", im5_warped)\n",
    "# cv.waitKey(0)\n",
    "# cv.destroyAllWindows()"
   ]
  },
  {
   "cell_type": "markdown",
   "metadata": {},
   "source": [
    "## 3. Computing the Homogrpahy Using Mouse-Clicked Points and Warping"
   ]
  },
  {
   "cell_type": "code",
   "execution_count": 32,
   "metadata": {},
   "outputs": [],
   "source": [
    "#https://learnopencv.com/homography-examples-using-opencv-python-c/\n",
    "import cv2 as cv\n",
    "import numpy as np\n",
    "N = 5\n",
    "global n\n",
    "n = 0\n",
    "p1 = np.empty((N,2))\n",
    "p2 = np.empty((N,2))\n",
    "# mouse callback function\n",
    "def draw_circle(event,x,y,flags,param):\n",
    "    global n\n",
    "    p = param[0]\n",
    "    if event == cv.EVENT_LBUTTONDOWN:\n",
    "        cv.circle(param[1],(x,y),5,(255,0,0),-1)\n",
    "        p[n] = (x,y)\n",
    "        n += 1\n",
    "im1 = cv.imread('../images/graf/img1.ppm', cv.IMREAD_ANYCOLOR)\n",
    "im4 = cv.imread('../images/graf/img4.ppm', cv.IMREAD_ANYCOLOR)\n",
    "\n",
    "im1copy = im1.copy()\n",
    "im4copy = im4.copy()\n",
    "cv.namedWindow('Image 1', cv.WINDOW_AUTOSIZE)\n",
    "param = [p1, im1copy]\n",
    "cv.setMouseCallback('Image 1',draw_circle, param)\n",
    "while(1):\n",
    "    cv.imshow(\"Image 1\", im1copy)\n",
    "    if n == N:\n",
    "        break\n",
    "    if cv.waitKey(20) & 0xFF == 27:\n",
    "        break\n",
    "        \n",
    "param = [p2, im4copy]\n",
    "n = 0\n",
    "cv.namedWindow(\"Image 4\", cv.WINDOW_AUTOSIZE)\n",
    "cv.setMouseCallback('Image 4',draw_circle, param)\n",
    "while(1):\n",
    "    cv.imshow(\"Image 4\", im4copy)\n",
    "    if n == N:\n",
    "        break\n",
    "    if cv.waitKey(20) & 0xFF == 27:\n",
    "        break\n",
    "cv.destroyAllWindows()"
   ]
  },
  {
   "cell_type": "code",
   "execution_count": 33,
   "metadata": {},
   "outputs": [],
   "source": [
    "H, status = cv.findHomography(p1,p2)\n",
    "H = np.array(H)\n",
    "im4_warped = cv.warpPerspective(im4, np.linalg.inv(H), (900,900))\n",
    "saveimg('im4warped.png', im4_warped)\n",
    "im4_warped[0:im1.shape[0], 0:im1.shape[1]] = im1\n",
    "saveimg('im4warped2.png', im4_warped)"
   ]
  },
  {
   "cell_type": "code",
   "execution_count": 34,
   "metadata": {},
   "outputs": [
    {
     "name": "stdout",
     "output_type": "stream",
     "text": [
      "[[ 6.59894211e-01  6.86220378e-01 -3.13000247e+01]\n",
      " [-1.50977725e-01  9.56863356e-01  1.52906596e+02]\n",
      " [ 4.12755346e-04 -1.98886486e-05  1.00000000e+00]]\n",
      "[[157. 560.]\n",
      " [141. 130.]\n",
      " [544. 542.]\n",
      " [405. 209.]\n",
      " [682.  56.]] [[434. 631.]\n",
      " [143. 243.]\n",
      " [576. 486.]\n",
      " [325. 250.]\n",
      " [358.  81.]]\n"
     ]
    }
   ],
   "source": [
    "print(H)\n",
    "print(p1,p2)"
   ]
  },
  {
   "cell_type": "code",
   "execution_count": 35,
   "metadata": {},
   "outputs": [],
   "source": [
    "#Marking the Selected points on the images\n",
    "im1 = cv.imread('../images/graf/img1.ppm', cv.IMREAD_ANYCOLOR)\n",
    "im4 = cv.imread('../images/graf/img4.ppm', cv.IMREAD_ANYCOLOR)\n",
    "\n",
    "for point in p1.astype(np.int32):\n",
    "    cv.circle(im1, tuple(point), radius=8, color=(255, 255, 0), thickness=-1)\n",
    "saveimg('im1points.png', im1)\n",
    "for point in p2.astype(np.int32):\n",
    "    cv.circle(im4, tuple(point), radius=8, color=(255, 255, 0), thickness=-1)\n",
    "saveimg('im4points.png', im4)"
   ]
  },
  {
   "cell_type": "markdown",
   "metadata": {},
   "source": [
    "## 4. Computing the Homogrpahy Using Mouse-Clicked Points without OpenCV"
   ]
  },
  {
   "cell_type": "code",
   "execution_count": 37,
   "metadata": {},
   "outputs": [],
   "source": [
    "#============================ Normalization ======================\n",
    "def normalizePoints(points):\n",
    "    \"\"\"\n",
    "       Normalizing the point cloud(pre-conditioning) \n",
    "    \"\"\"\n",
    "    # Calculating the centroid of the points.\n",
    "    centroid = sum(points)/len(points)\n",
    "    # Calculating the scaling factor.\n",
    "    total_dist = sum(np.sqrt(np.sum(((points - centroid)**2),axis = 1)))\n",
    "    avg_dist  = total_dist/len(points)\n",
    "    # For average distance from the origin to be sqrt(2) after scaling\n",
    "    scale = np.sqrt(2)/avg_dist    \n",
    "    # Defining Similarity transformation: translation and scaling\n",
    "    xt, yt = centroid\n",
    "    transform = np.array([[scale, 0, -xt*scale],\n",
    "                          [0, scale, -yt*scale],\n",
    "                          [0, 0,1]])\n",
    "    # Making the points homogeneous by adding 1 at the end\n",
    "    points = np.concatenate((points, np.ones((len(points),1))), axis =1)\n",
    "    # Similarity transformation through matrix multiplication\n",
    "    normalized_points = transform.dot(points.T).T\n",
    "    return transform, normalized_points\n",
    "\n",
    "#===================== Calculating homography ====================\n",
    "def calcHomography(p1,p2):\n",
    "    \"\"\"\n",
    "        The normalized DLT for 2D homographies.Given in the \n",
    "        Multiple View Geometry in Computer Vision Second Edition \n",
    "        by Richard Hartley & Andrew Zisserman. Algorithm 4.2 \n",
    "    \"\"\"\n",
    "    # Normalizing the points using predefined function\n",
    "    T1,p1 = normalizePoints(p1)\n",
    "    T2,p2 = normalizePoints(p2)\n",
    "    #Initialising an array to keep the coefficint matrix\n",
    "    A = np.zeros((2*len(p1), 9))\n",
    "    row = 0\n",
    "    # Filling rows of the matrix according to the expressions\n",
    "    for point1, point2 in zip(p1,p2):\n",
    "        # Coefficients of the current row \n",
    "        A[row, 3:6] = -point2[2]*point1\n",
    "        A[row, 6:9] =  point2[1]*point1\n",
    "        # Coefficients of the next row \n",
    "        A[row+1, 0:3] =  point2[2]*point1\n",
    "        A[row+1, 6:9] = -point2[0]*point1    \n",
    "        row+=2    \n",
    "    # Singular Value decomposition of A\n",
    "    U, D, VT = np.linalg.svd(A)\n",
    "    # unit singular vector corresponding to the smallest \n",
    "    # singular value, is the solution h. That is last column of V.\n",
    "    # i.e. Last row of the V^T\n",
    "    h =   VT[-1]\n",
    "    # Reshaping to get 3x3 homography\n",
    "    H = h.reshape((3,3))\n",
    "    # Denormalization\n",
    "    H = np.linalg.inv(T2).dot(H).dot(T1)\n",
    "    H = H/H[-1,-1]\n",
    "    return H"
   ]
  },
  {
   "cell_type": "code",
   "execution_count": 38,
   "metadata": {},
   "outputs": [],
   "source": [
    "myH = calcHomography(p1,p2)\n",
    "myH = np.array(myH)"
   ]
  },
  {
   "cell_type": "code",
   "execution_count": 39,
   "metadata": {},
   "outputs": [],
   "source": [
    "im1 = cv.imread('../images/graf/img1.ppm', cv.IMREAD_ANYCOLOR)\n",
    "im4 = cv.imread('../images/graf/img4.ppm', cv.IMREAD_ANYCOLOR)\n",
    "\n",
    "im4_warped = cv.warpPerspective(im4, np.linalg.inv(myH), (900,900))\n",
    "saveimg('myim4warped.png', im4_warped)\n",
    "im4_warped[0:im1.shape[0], 0:im1.shape[1]] = im1\n",
    "saveimg('myim4warped2.png', im4_warped)\n",
    "\n",
    "for point in p1.astype(np.int32):\n",
    "    cv.circle(im1, tuple(point), radius=8, color=(0, 255, 0), thickness=-1)\n",
    "saveimg('myim1points.png', im1)\n",
    "for point in p2.astype(np.int32):\n",
    "    cv.circle(im4, tuple(point), radius=8, color=(0, 255, 0), thickness=-1)\n",
    "saveimg('myim4points.png', im4)"
   ]
  },
  {
   "cell_type": "code",
   "execution_count": 40,
   "metadata": {},
   "outputs": [
    {
     "name": "stdout",
     "output_type": "stream",
     "text": [
      "[[ 6.60355290e-01  6.85735356e-01 -3.13168167e+01]\n",
      " [-1.50699933e-01  9.56965356e-01  1.52763838e+02]\n",
      " [ 4.13108386e-04 -2.02092511e-05  1.00000000e+00]]\n",
      "[[157. 560.]\n",
      " [141. 130.]\n",
      " [544. 542.]\n",
      " [405. 209.]\n",
      " [682.  56.]] [[434. 631.]\n",
      " [143. 243.]\n",
      " [576. 486.]\n",
      " [325. 250.]\n",
      " [358.  81.]]\n"
     ]
    }
   ],
   "source": [
    "print(myH)\n",
    "print(p1,p2)"
   ]
  },
  {
   "cell_type": "code",
   "execution_count": null,
   "metadata": {},
   "outputs": [],
   "source": []
  }
 ],
 "metadata": {
  "kernelspec": {
   "display_name": "Python 3",
   "language": "python",
   "name": "python3"
  },
  "language_info": {
   "codemirror_mode": {
    "name": "ipython",
    "version": 3
   },
   "file_extension": ".py",
   "mimetype": "text/x-python",
   "name": "python",
   "nbconvert_exporter": "python",
   "pygments_lexer": "ipython3",
   "version": "3.8.10"
  }
 },
 "nbformat": 4,
 "nbformat_minor": 4
}
