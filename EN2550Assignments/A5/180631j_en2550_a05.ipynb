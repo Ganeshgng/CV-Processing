{
 "cells": [
  {
   "cell_type": "markdown",
   "id": "0dcefc87-4cfd-46a5-876f-22acba656c63",
   "metadata": {},
   "source": [
    "---\n",
    "\n",
    "# EN2550 2021: Object Counting on a Convey Belt<a href=\"#EN2550-2021:-Object-Counting-on-a-Convey-Belt\" class=\"anchor-link\"></a>\n",
    "### *Index Number: 180631J*\n",
    "### *Submitted on: July 5, 2021*\n",
    "\n",
    "---\n",
    "\n",
    "In this assignment, you will be counting and tracking the hexagonal nuts\n",
    "on a moving convey belt.\n",
    "\n",
    "### Let's first import required libraries<a href=\"#Let&#39;s-first-import-required-libraries\" class=\"anchor-link\"></a>"
   ]
  },
  {
   "cell_type": "code",
   "execution_count": null,
   "id": "fe5315b6-cb7c-4c6f-a1e4-aac8a2c7cb28",
   "metadata": {},
   "outputs": [],
   "source": [
    "import cv2 as cv\n",
    "import numpy as np\n",
    "import matplotlib.pyplot as plt\n",
    "#from google.colab.patches import cv2_imshow\n",
    "\n",
    "# magic commands\n",
    "%config IPCompleter.greedy=True\n",
    "%config Completer.use_jedi = False\n",
    "%matplotlib inline\n",
    "# plt.rcParams['figure.figsize'] = (10.0, 8.0) # set default size of plots\n",
    "# plt.rcParams['image.interpolation'] = 'nearest'\n",
    "# plt.rcParams['image.cmap'] = 'gray'"
   ]
  },
  {
   "cell_type": "markdown",
   "id": "00fb402c-a29a-400f-b7eb-fe38dafe728a",
   "metadata": {},
   "source": [
    "### Let's load and visualize the template image and the convey belt snapshot at a given time.<a href=\"#Let&#39;s-load-and-visualize-the-template-image-and-the-convey-belt-snapshot-at-a-given-time.\" class=\"anchor-link\">¶</a>\n"
   ]
  },
  {
   "cell_type": "code",
   "execution_count": null,
   "id": "2cc0f767-9110-47d0-91ff-8369adb07acc",
   "metadata": {},
   "outputs": [],
   "source": [
    "template_im = cv.imread(r'template.png', cv.IMREAD_GRAYSCALE)\n",
    "belt_im =  cv.imread(r'belt.png', cv.IMREAD_GRAYSCALE)\n",
    "\n",
    "fig, ax = plt. subplots(1,2,figsize=(10,10))\n",
    "ax[0].imshow(template_im, cmap='gray')\n",
    "ax[1].imshow(belt_im, cmap='gray')\n",
    "plt.show()"
   ]
  },
  {
   "cell_type": "markdown",
   "id": "c3463683-de01-41f3-ae10-1ed10ce90ea1",
   "metadata": {},
   "source": [
    "## Part-I :<a href=\"#Part-I-:\" class=\"anchor-link\"></a>\n",
    "\n",
    "Before going into the implementation, let's play with some functions.\n",
    "\n",
    "### Otsu's thresholding<a href=\"#Otsu&#39;s-thresholding\" class=\"anchor-link\"></a>\n",
    "\n",
    "* Otsu's method avoids having to choose a value and determines an optimal global threshold value from the image histogram automatically. It is returned as the first output.\n",
    "\n",
    "Please read\n",
    "[thresholding](https://docs.opencv.org/master/d7/d4d/tutorial_py_thresholding.html)\n",
    "to get an idea about different types of thresholding and how to use\n",
    "them.(Please use **cv.THRESH_BINARY_INV**)."
   ]
  },
  {
   "cell_type": "code",
   "execution_count": null,
   "id": "4b82e0be-3b15-466b-a9d3-2b006f477375",
   "metadata": {},
   "outputs": [],
   "source": [
    "th_t, img_t = cv.threshold(template_im,0,255,cv.THRESH_BINARY_INV+cv.THRESH_OTSU)\n",
    "#\"< Your code to apply thresholding to the belt_im>\"\n",
    "th_b, img_b = cv.threshold(belt_im,0,255,cv.THRESH_BINARY_INV+cv.THRESH_OTSU) "
   ]
  },
  {
   "cell_type": "markdown",
   "id": "ff587168-b8bd-4cf3-9004-a8a1a221036f",
   "metadata": {},
   "source": [
    "### Morphological closing<a href=\"#Morphological-closing\" class=\"anchor-link\"></a>\n",
    "\n",
    "Carry out morphological closing to remove small holes inside the\n",
    "foreground. Use a \\$3 \\\\times 3\\$ kernel. See\n",
    "[closing](https://docs.opencv.org/master/d9/d61/tutorial_py_morphological_ops.html)\n",
    "for a guide.\n",
    "\n",
    "1. Erosion: a pixel element is '1' if all the pixel under the kernel is '1'. So it decreases the white region\n",
    "2. Dilation: a pixel element is '1' if atleast one pixel under the kernel is '1'. So it increases the white region"
   ]
  },
  {
   "cell_type": "code",
   "execution_count": null,
   "id": "cb67c5fd-0379-49f9-87e3-0df3c03bbfe3",
   "metadata": {},
   "outputs": [],
   "source": [
    "#\"< 3x3 matrix with all ones, with uint8 dtype>\" \n",
    "kernel = cv.getStructuringElement(cv.MORPH_RECT, (3,3)) \n",
    "closing_t = cv.morphologyEx(img_t, cv.MORPH_CLOSE, kernel) # Dilation followed by Erosion\n",
    "#\"< Your code to apply morphological closing for belt >\"\n",
    "closing_b = cv.morphologyEx(img_b, cv.MORPH_CLOSE, kernel) # Dilation followed by Erosion"
   ]
  },
  {
   "cell_type": "markdown",
   "id": "72841de1-1ebc-4fcf-b596-1cf6d404ed80",
   "metadata": {},
   "source": [
    "### Connected component analysis<a href=\"#Connected-component-analysis\" class=\"anchor-link\"></a>\n",
    "\n",
    "Apply the `connectedComponentsWithStats` function ([see\n",
    "this](https://docs.opencv.org/3.4/d3/dc0/group__imgproc__shape.html#ga107a78bf7cd25dec05fb4dfc5c9e765f)).\n",
    "\n"
   ]
  },
  {
   "cell_type": "code",
   "execution_count": null,
   "id": "e561cf4e-cb8e-443e-8a60-35562b3ed7d1",
   "metadata": {},
   "outputs": [],
   "source": [
    "retval_t, labels_t, stats_t, centroids_t = cv.connectedComponentsWithStats(closing_t)\n",
    "#\"< Your code to perform connected component analysis for closing_b>\"\n",
    "retval_b, labels_b, stats_b, centroids_b = cv.connectedComponentsWithStats(closing_b)\n",
    "\n",
    "print(\"Template Image\".center(50,\"=\"))\n",
    "print(\"Number of labels: \", retval_t)\n",
    "plt.plot(), plt.imshow(labels_t.astype('uint8'), cmap ='gray'), plt.show()\n",
    "print(\"stats: \\n\", stats_t) # stats_t[label,cv.CC_STAT_AREA])\n",
    "print(\"Centroids: \\n\", centroids_t)\n",
    "print(\"\\n\"*2)\n",
    "\n",
    "print(\"Belt Image\".center(50,\"=\"))\n",
    "print(\"Number of labels: \", retval_b)\n",
    "plt.plot(), plt.imshow(labels_b.astype('uint8'), cmap ='gray'), plt.show()\n",
    "print(\"stats: \\n\", stats_b)\n",
    "print(\"Centroids: \\n\", centroids_b)"
   ]
  },
  {
   "cell_type": "markdown",
   "id": "c9009c0a-606a-47bb-a1c9-99d3ee0c58f5",
   "metadata": {},
   "source": [
    "-   How many connected components are detected in each image?<br>\n",
    "Template Image = 2 <br> Belt Image = 4\n",
    "-   What are the statistics? Interpret these statistics.<br>\n",
    "Statistics are properties related to each connected component. Statistics object is a 2D array where each column represent a different property related to a given connected component as described below.\n",
    "\n",
    "**Column 1:** *cv.CC_STAT_LEFT*: the leftmost (x) coordinate which is the inclusive start of the bounding box in the horizontal direction.<br>\n",
    "**Column 2:** *cv.CC_STAT_TOP*: the topmost (y) coordinate which is the inclusive start of the bounding box in the vertical direction.<br>\n",
    "**Column 3:** *cv.CC_STAT_WIDTH*: the horizontal size of the bounding box.<br>\n",
    "**Column 4:** *cv.CC_STAT_HEIGHT*: the vertical size of the bounding box.<br>\n",
    "**Column 5:** *cv.CC_STAT_AREA*: the total area (in pixels) of the connected component.<br>\n",
    "-   What are the centroids?<br>\n",
    "Each row of the 2D Cenroids obejct represents the (x,y) coordinates of centroid of the corresponding connected component."
   ]
  },
  {
   "cell_type": "markdown",
   "id": "d74075df-fbfb-4840-8148-0df196df9eb7",
   "metadata": {},
   "source": [
    "### Contour analysis<a href=\"#Contour-analysis\" class=\"anchor-link\"></a>\n",
    "\n",
    "Use `findContours` function to retrieve the *extreme outer* contours.\n",
    "([see](https://docs.opencv.org/4.5.2/d4/d73/tutorial_py_contours_begin.html)\n",
    "for help and\n",
    "[see](https://docs.opencv.org/4.5.2/d3/dc0/group__imgproc__shape.html#gadf1ad6a0b82947fa1fe3c3d497f260e0)\n",
    "for information.)\n",
    "\n",
    "Contours is a Python list of all the contours in the image. Each individual contour is a Numpy array of (x,y) coordinates of boundary points of the object. Display these countours."
   ]
  },
  {
   "cell_type": "code",
   "execution_count": null,
   "id": "70901f52-2653-4619-9f3a-d0b32fcd1fe7",
   "metadata": {},
   "outputs": [],
   "source": [
    "# this function has nothing to do with connected components analysis.\n",
    "# Just use the closed image.\n",
    "\n",
    "contours_t,_ = cv.findContours(closing_t, cv.RETR_EXTERNAL, cv.CHAIN_APPROX_SIMPLE)\n",
    "#\"< Your code to perform counter analysis for closing_b>\"\n",
    "# cv.RETR_TREE retrieves all of the contours and reconstructs a full hierarchy of nested contours.\n",
    "contours_b,_ = cv.findContours(closing_b, cv.RETR_EXTERNAL, cv.CHAIN_APPROX_SIMPLE)\n",
    "print(len(contours_b))\n",
    "# Visualizing contours\n",
    "im_contours_belt = np.zeros((belt_im.shape[0],belt_im.shape[1],3), np.uint8)\n",
    "conts = cv.drawContours(im_contours_belt, contours_b, -1, (0,255,0), 3).astype('uint8')\n",
    "plt.imshow(conts), plt.show()"
   ]
  },
  {
   "cell_type": "markdown",
   "id": "4f7a310f-acf9-4715-9d3b-b9afba79eecb",
   "metadata": {},
   "source": [
    "### Count the number of matching hexagonal nuts in `belt.png`.<a href=\"#Count-the-number-of-matching-hexagonal-nuts-in-belt.png.\" class=\"anchor-link\"></a>\n",
    "\n",
    "Use the `matchShapes` function as shown in\n",
    "[examples](https://docs.opencv.org/4.5.2/d5/d45/tutorial_py_contours_more_functions.html)\n",
    "to match contours in the belt image with that in the template.\n",
    "\n",
    "Get an idea about the value output by the `cv.matchShapes` when both the\n",
    "template and the reference image have the same shape. Understand the\n",
    "given code snippet.<br> \n",
    "`cv.matchShapes` enables us to compare two shapes, or two contours and returns a metric showing the similarity. The lower the result, the better match it is. `retval=cv.matchShapes(contour1, contour2, method, parameter)\n",
    "`"
   ]
  },
  {
   "cell_type": "code",
   "execution_count": null,
   "id": "107b72c5-b8e1-4d3b-af5a-578326fbe8f5",
   "metadata": {},
   "outputs": [],
   "source": [
    "label = 1 # remember that the label of the background is 0\n",
    "belt = ((labels_b >= label)*255).astype('uint8')  \n",
    "plt.imshow(belt, cmap ='gray'),plt.show()\n",
    "# cv.RETR_EXTERNAL retrieves only the extreme outer contours\n",
    "belt_cont,_ = cv.findContours(belt, cv.RETR_EXTERNAL, cv.CHAIN_APPROX_SIMPLE)  \n",
    "for j,c in enumerate(belt_cont):\n",
    "        print(\"contour \", j +1,\"-->\", cv.matchShapes(contours_t[0], c, cv.CONTOURS_MATCH_I1, 0.0))"
   ]
  },
  {
   "cell_type": "markdown",
   "id": "21cf7d1c-c29e-4db8-98b6-3e71c0ca5c41",
   "metadata": {},
   "source": [
    "## Part - II<a href=\"#Part---II\" class=\"anchor-link\"></a>\n",
    "\n",
    "### Frame tracking through image moments.<a href=\"#Frame-tracking-through-image-moments.\" class=\"anchor-link\"></a>\n",
    "\n",
    "Use the `cv.contourArea()`, see\n",
    "[this](https://docs.opencv.org/master/dd/d49/tutorial_py_contour_features.html)\n",
    "and calculate the the area of the `contours_b[1]`\n"
   ]
  },
  {
   "cell_type": "code",
   "execution_count": null,
   "id": "3ddd7b1c-457d-4e05-9477-c77f49ae99dd",
   "metadata": {},
   "outputs": [],
   "source": [
    "ca = cv.contourArea(contours_b[1])\n",
    "print(ca)"
   ]
  },
  {
   "cell_type": "markdown",
   "id": "76f8520b-0738-4e6d-9160-6047b86bb073",
   "metadata": {},
   "source": [
    "Use the `cv.moments` to extract the x and y coordinates of the centroid\n",
    "of `contours_b[1]`.\n"
   ]
  },
  {
   "cell_type": "code",
   "execution_count": null,
   "id": "a29e3d21-1223-4a53-bfeb-08d9b94a19a4",
   "metadata": {},
   "outputs": [],
   "source": [
    "M = cv.moments(contours_b[1])\n",
    "print(\"Area = \", M['m00'])\n",
    "\n",
    "cx, cy = int(M['m10']/M['m00']), int(M['m01']/M['m00'])\n",
    "print(\"Centroid = ({}, {})\".format(cx,cy))"
   ]
  },
  {
   "cell_type": "markdown",
   "id": "1f687c9c-d508-4ec6-97ce-52a1ef3afea8",
   "metadata": {},
   "source": [
    "Make a variable called `count` to represent the number of contours and\n",
    "set it to the value 1. Make an np array \\[cx, cy, ca, count\\] and name\n",
    "this as `object_prev_frame`\n",
    "\n"
   ]
  },
  {
   "cell_type": "code",
   "execution_count": null,
   "id": "4449f8ca-3515-4cb4-9e93-5cabcff1d202",
   "metadata": {},
   "outputs": [],
   "source": [
    "count = 1\n",
    "object_prev_frame = np.array([cx, cy, ca, count])"
   ]
  },
  {
   "cell_type": "markdown",
   "id": "ef8bdcca-1bf1-404f-bed4-8ec103b3d903",
   "metadata": {},
   "source": [
    "Similarly, you can create the `object_curr_frame`(to describe the\n",
    "current values) and define the threshold `delta_x` to check whether the\n",
    "corresponding element of both the `object_curr_frame` and\n",
    "`object_prev_frame` are less than the `delta_x`. You can set `delta_x`\n",
    "as 15 or so. (Here the `delta_x` can be thought of as the movement of\n",
    "the cx from frame to frame)\n"
   ]
  },
  {
   "cell_type": "code",
   "execution_count": null,
   "id": "c38be5df-c2e7-4137-aa16-b22d665bd2ec",
   "metadata": {},
   "outputs": [],
   "source": [
    "delta_x = 15"
   ]
  },
  {
   "cell_type": "markdown",
   "id": "3d2e8538-5fa7-49b8-929a-ea5c3be97080",
   "metadata": {},
   "source": [
    "## Part - III<a href=\"#Part---III\" class=\"anchor-link\"></a>\n",
    "\n",
    "### 1. Implement the function `get_indexed_image`, which takes an image as the input, performs thresholding, closing, and connected component analysis and return retval, labels, stats, centroids. (Grading)<a href=\"#1.-Implement-the-function-get_indexed_image,-which-takes-an-image-as-the-input,-performs-thresholding,-closing,-and-connected-component-analysis-and-return-retval,-labels,-stats,-centroids.-(Grading)\" class=\"anchor-link\"></a>\n"
   ]
  },
  {
   "cell_type": "code",
   "execution_count": null,
   "id": "4909e1ad-f7fd-427e-a936-2545a9a06257",
   "metadata": {},
   "outputs": [],
   "source": [
    "def get_indexed_image(im):\n",
    "    \"\"\" Thresholding, closing, and connected component analysis lumped\n",
    "    \"\"\" \n",
    "\n",
    "    th, img = cv.threshold(im,0,255,cv.THRESH_BINARY_INV+cv.THRESH_OTSU)\n",
    "    kernel = cv.getStructuringElement(cv.MORPH_RECT, (3,3)) \n",
    "    closing = cv.morphologyEx(img, cv.MORPH_CLOSE, kernel) # Dilation followed by Erosion\n",
    "    retval, labels, stats, centroids = cv.connectedComponentsWithStats(closing)\n",
    "\n",
    "    return retval, labels, stats, centroids "
   ]
  },
  {
   "cell_type": "markdown",
   "id": "8a1678a1-fed9-4871-b156-a766012daf8f",
   "metadata": {
    "tags": []
   },
   "source": [
    "### 2. Implement the function `is_new`, which checks the dissimilarity between 2 vectors. (Grading)<a href=\"#2.-Implement-the-function-is_new,-which-checks-the-dissimilarity-between-2-vectors.-(Grading)\" class=\"anchor-link\"></a>\n"
   ]
  },
  {
   "cell_type": "code",
   "execution_count": null,
   "id": "2e999928-1285-4099-a99a-0c05d173e24d",
   "metadata": {},
   "outputs": [],
   "source": [
    "def is_new(a, b, delta, i):\n",
    "    \"\"\" Vector Dissimilarity with an Array of Vectors\n",
    "    Checks if vector b is similar to a one or more vectors in a outside the tolerances specified in delta. \n",
    "    vector i specifies which elements in b to compare with those in a. \n",
    "    \"\"\"    \n",
    "  \n",
    "    absolute_different = np.absolute(a - b)\n",
    "    absolute_different[:,i] = (absolute_different[:,i] > delta[i]) \n",
    "    \n",
    "    'Check whether the absolute different between all the elements of ith column of each array is greater than the ith delta value (See thee example in the next cell)'   \n",
    "    \n",
    "    return absolute_different[:,i].all() # all(axis=0) over columns"
   ]
  },
  {
   "cell_type": "code",
   "execution_count": null,
   "id": "14f8512f-3975-41ec-96a6-4a29ba676a3e",
   "metadata": {},
   "outputs": [],
   "source": [
    "# check is_new  expected answer False\n",
    "\n",
    "a = np.array([[1.36100e+03, 5.53000e+02, 5.99245e+04, 2.00000e+00],\n",
    "             [7.61000e+02, 4.53000e+02, 5.99385e+04, 1.00000e+00],\n",
    "             [1.55200e+03, 2.43000e+02, 6.00585e+04, 3.00000e+00]])\n",
    "\n",
    "b = np.array([7.51000e+02, 4.53000e+02, 5.99385e+04, 3.00000e+00])\n",
    "delta = np.array([delta_x])\n",
    "i = np.array([0])\n",
    "\n",
    "assert is_new(a, b, delta, i) == False, \" Check the function \"\n",
    "\n",
    "absolute_different = np.absolute(a - b)\n",
    "print(absolute_different)\n",
    "absolute_different[:,i] = (absolute_different[:,i] > delta[i])\n",
    "print(absolute_different)\n",
    "print(absolute_different[:,i].all()) # all(axis=0) over columns"
   ]
  },
  {
   "cell_type": "markdown",
   "id": "b3974dc9-fc9a-44d4-abd7-abbeede3678a",
   "metadata": {},
   "source": [
    "### 3. If the array `a` is in the shape of (number of nuts , len(object_prev_frame)) ( i.e. array `a` is made by stacking all the `object_prev_frame` for each frame. If b is in the form of \\[cx, cy, ca, count\\], write the function `prev_index` to find the index of a particular nut in the previous frame. (Grading)<a href=\"#3.-If-the-array-a-is-in-the-shape-of-(number-of-nuts-,-len(object_prev_frame))-(-i.e.-array-a-is-made-by-stacking-all-the-object_prev_frame-for-each-frame.-If-b-is-in-the-form-of-%5Bcx,-cy,-ca,-count%5D,-write-the-function-prev_index-to-find-the-index-of-a-particular-nut-in-the-previous-frame.-(Grading)\" class=\"anchor-link\"></a>\n"
   ]
  },
  {
   "cell_type": "code",
   "execution_count": null,
   "id": "f8a5c5e1-3935-49b7-9b24-acea1288d68f",
   "metadata": {},
   "outputs": [],
   "source": [
    "def prev_index(a, b, delta, i):\n",
    "    \"\"\" Returns Previous Index\n",
    "    Returns the index of the apppearance of the object in the previous frame.\n",
    "    (See thee example in the next cell)\n",
    "    \"\"\"\n",
    "    index = -1\n",
    "    absolute_different = np.absolute(a - b)\n",
    "    # thresholding  depending on the movement of the cx from frame to frame\n",
    "    absolute_different[:,i] = (absolute_different[:,i] <= delta[i])  \n",
    "    index = np.where(absolute_different[:,i])[0]\n",
    "    \n",
    "    return index    "
   ]
  },
  {
   "cell_type": "code",
   "execution_count": null,
   "id": "598ade69-a1bb-4b71-a5fd-c74b6f57118c",
   "metadata": {},
   "outputs": [],
   "source": [
    "# check prev_index  expected answer 1\n",
    "a = np.array([[1.36100e+03, 5.53000e+02, 5.99245e+04, 2.00000e+00],\n",
    "             [7.61000e+02, 4.53000e+02, 5.99385e+04, 1.00000e+00],\n",
    "             [1.55200e+03, 2.43000e+02, 6.00585e+04, 3.00000e+00]])\n",
    "\n",
    "b = np.array([7.51000e+02, 4.53000e+02, 5.99385e+04, 3.00000e+00])\n",
    "delta = np.array([delta_x])\n",
    "i = np.array([0])\n",
    "\n",
    "assert prev_index(a,b,delta,i) == 1, \" Check the function \"\n",
    "\n",
    "absolute_different = np.absolute(a - b)\n",
    "print(absolute_different)\n",
    "absolute_different[:,i] = (absolute_different[:,i] <= delta[i])\n",
    "print(absolute_different)\n",
    "index = np.where(absolute_different[:,i])[0]\n",
    "print(index)"
   ]
  },
  {
   "cell_type": "code",
   "execution_count": null,
   "id": "649503b6-a153-4035-83cd-97e8e5373a10",
   "metadata": {},
   "outputs": [],
   "source": [
    "print(np.where([0,1,0])[0])"
   ]
  },
  {
   "cell_type": "markdown",
   "id": "3baa40f7-775d-4800-8d16-07ba76f0778f",
   "metadata": {},
   "source": [
    "### Access video frames\n",
    "You can use following code snippet load and access each frame of a video\n"
   ]
  },
  {
   "cell_type": "code",
   "execution_count": null,
   "id": "e7de56b2-5e05-4882-8c44-041c28c4ec7f",
   "metadata": {},
   "outputs": [],
   "source": [
    "color_frames = []\n",
    "\n",
    "cap = cv.VideoCapture('conveyor_with_rotation.mp4') # give the correct path here\n",
    "while cap.isOpened(): \n",
    "    ret, frame = cap.read()\n",
    "    if not ret:\n",
    "        print(\"Can't receive frame (stream end?). Exiting ...\")\n",
    "        break\n",
    "    color_frames.append(frame)\n",
    "    cv.imshow(\"Frame\", frame)\n",
    "    if cv.waitKey(1) == ord('q'):  \n",
    "        break\n",
    "        \n",
    "cap.release()\n",
    "cv.destroyAllWindows()"
   ]
  },
  {
   "cell_type": "code",
   "execution_count": null,
   "id": "5bb6cafb-7e3e-41f7-838c-1f43384da9ce",
   "metadata": {},
   "outputs": [],
   "source": [
    "plt.figure(figsize=(30,20))\n",
    "for i in range(9):\n",
    "    plt.subplot(3,3,i+1)\n",
    "    plt.imshow(color_frames[100 +i])\n",
    "plt.show()\n"
   ]
  },
  {
   "cell_type": "markdown",
   "id": "7ed70856-cf97-42f2-ab9f-ee10acb0ae59",
   "metadata": {},
   "source": [
    "### 3. Implement a code to detect hexagonal nuts in a moving convey belt. (Grading)<a href=\"#3.-Implement-a-code-to-detect-hexagonal-nuts-in-a-moving-convey-belt.-(Grading)\" class=\"anchor-link\"></a>\n",
    "\n",
    "## Steps:<a href=\"#Steps:\" class=\"anchor-link\"></a>\n",
    "\n",
    "1.  Use the above code snippet to access each frame and remember to\n",
    "    convert the frame into grey scale. Name the variable as `grey`\n",
    "2.  Call `get_indexed_image` and extract\n",
    "    `retval, labels, stats, centroids`.\n",
    "3.  Find contours of all nuts present in a given frame of the belt.\n",
    "4.  Initiate a 3-D array with zeros to draw contours. Call this\n",
    "    `im_contours_belt`\n",
    "5.  Draw each contour. Use `cv.drawContours`. [See\n",
    "    this](https://docs.opencv.org/master/d4/d73/tutorial_py_contours_begin.html)"
   ]
  },
  {
   "cell_type": "code",
   "execution_count": null,
   "id": "d7cfbdd1-692f-461c-8172-229b816a6823",
   "metadata": {},
   "outputs": [],
   "source": [
    "gray_frames = []\n",
    "cap = cv.VideoCapture('conveyor_with_rotation.mp4') # give the correct path here\n",
    "while cap.isOpened(): \n",
    "    ret, frame = cap.read()\n",
    "    if not ret:\n",
    "        print(\"Can't receive frame (stream end?). Exiting ...\")\n",
    "        break\n",
    "    gray_frames.append(cv.cvtColor(frame, cv.COLOR_BGR2GRAY)) # store the grayscale frame images in frames list\n",
    "    \n",
    "    if cv.waitKey(1) == ord('q'):  #keyboard interruption\n",
    "        break\n",
    "        \n",
    "cap.release()\n",
    "\n",
    "cv.destroyAllWindows()"
   ]
  },
  {
   "cell_type": "code",
   "execution_count": null,
   "id": "d4282b36-486a-4730-ac93-3d3dba6cc8b9",
   "metadata": {},
   "outputs": [],
   "source": [
    "print(\"Total frames = \", len(color_frames))\n",
    "plt.plot(), plt.imshow(color_frames[120], cmap ='gray')"
   ]
  },
  {
   "cell_type": "code",
   "execution_count": null,
   "id": "5daf1544-3a48-4e78-bd0e-bcc1a8346863",
   "metadata": {},
   "outputs": [],
   "source": [
    "# Draw contours in each frame\n",
    "contour_plots = []\n",
    "for gray in gray_frames:\n",
    "    retval, labels, stats, centroids = get_indexed_image(gray)\n",
    "    belt = ((labels >= 1)*255).astype('uint8') \n",
    "    contours,_  = cv.findContours(belt, cv.RETR_EXTERNAL, cv.CHAIN_APPROX_SIMPLE)\n",
    "    im_contours_belt = np.zeros((belt.shape[0],belt.shape[1],3), np.uint8)\n",
    "    cont_plot = cv.drawContours(im_contours_belt, contours, -1, (0,255,0), 5).astype('uint8')\n",
    "    contour_plots.append(cont_plot)"
   ]
  },
  {
   "cell_type": "code",
   "execution_count": null,
   "id": "d67def6e-d20a-40a9-9669-693d3425c69c",
   "metadata": {},
   "outputs": [],
   "source": [
    "# visualizing contour plots on frames\n",
    "# plt.figure(figsize=(40,40))\n",
    "# for i in range(20):\n",
    "#     plt.subplot(5,4,i+1)\n",
    "#     plt.imshow(contour_plots[20 +i])\n",
    "# plt.show()\n",
    "# print(contour_plots[0].shape)"
   ]
  },
  {
   "attachments": {
    "frame_43.PNG": {
     "image/png": "[encoded data removed]"
    }
   },
   "cell_type": "markdown",
   "id": "d24e1a17-8f34-470b-8371-f7a33096c491",
   "metadata": {},
   "source": [
    "## Object detection and tracking<a href=\"#Object-detection-and-tracking\" class=\"anchor-link\"></a>\n",
    "\n",
    "For each contour of the belt frame,\n",
    "\n",
    "1.  Use `is_new` and `prev_index` functions to track each frame and get\n",
    "    the indices of each nut.\n",
    "2.  Write a code to detect and track hexagonal nuts in each frame.\n",
    "3.  You may refer,\n",
    "    [annotation](https://docs.opencv.org/master/dc/da5/tutorial_py_drawing_functions.html)\n",
    "    to understand how to add texts and labels to each frame.\n",
    "4.  Output for a random frame would be as follows\n",
    "    ![](frame_43.PNG)\n",
    "\n",
    "**Hint**: *If you are thresholding on areas (template and contour) you\n",
    "can use 500 as the threshold. You can set the matching threshold to be\n",
    "0.5 and experiment*"
   ]
  },
  {
   "cell_type": "code",
   "execution_count": null,
   "id": "449b22c9-c316-4f52-9ec1-a8e1c1cc4267",
   "metadata": {},
   "outputs": [],
   "source": [
    "# count number of nuts in a given frame\n",
    "nut_count = []\n",
    "\n",
    "for gray in gray_frames:\n",
    "    retval, labels, stats, centroids = get_indexed_image(gray)\n",
    "    belt = ((labels >= 1)*255).astype('uint8') \n",
    "    contours,_  = cv.findContours(belt, cv.RETR_EXTERNAL, cv.CHAIN_APPROX_SIMPLE)\n",
    "    \n",
    "    count = 0 # nut count in each frame\n",
    "    for contour in contours:\n",
    "        metric = cv.matchShapes(contours_t[0], contour, cv.CONTOURS_MATCH_I1, 0.0)\n",
    "        if metric <= 0.5: count +=1\n",
    "    nut_count.append(count)\n"
   ]
  },
  {
   "cell_type": "code",
   "execution_count": null,
   "id": "4a033854-c0fe-40ff-ba8c-688068542957",
   "metadata": {},
   "outputs": [],
   "source": [
    "print(nut_count[20:40])"
   ]
  },
  {
   "cell_type": "code",
   "execution_count": null,
   "id": "7ddd9b49-1be3-4833-94a9-f54ec0ff9d47",
   "metadata": {},
   "outputs": [],
   "source": [
    "# visualizing contour plots and nut count on frames\n",
    "plt.figure(figsize=(30,20))\n",
    "for i in range(9):\n",
    "    plt.subplot(3,3,i+1)\n",
    "    plt.imshow(contour_plots[100 +i])\n",
    "    plt.xlabel(\"Visible complete nuts = \" + str(nut_count[100 +i]))\n",
    "plt.show()"
   ]
  },
  {
   "cell_type": "code",
   "execution_count": null,
   "id": "afd1170d-4e77-4acf-85b7-e5d871b52591",
   "metadata": {},
   "outputs": [],
   "source": [
    "# frame tracking through img moments:\n",
    "# extracting details about each contour in each frame\n",
    "video = []\n",
    "\n",
    "for gray in gray_frames:\n",
    "    _, labels, _, _ = get_indexed_image(gray)\n",
    "    belt = ((labels >= 1)*255).astype('uint8') \n",
    "    contours,_  = cv.findContours(belt, cv.RETR_EXTERNAL, cv.CHAIN_APPROX_SIMPLE)\n",
    "    \n",
    "    count = 0 # nuts in a frame\n",
    "    frame = []\n",
    "    for contour in contours:\n",
    "        metric = cv.matchShapes(contours_t[0], contour, cv.CONTOURS_MATCH_I1, 0.0)\n",
    "        # metric = 0.0002 gives 7 nuts !\n",
    "        # metric = 0.00011 gives 6 nuts !\n",
    "        # metric = 0.00010 gives ValueError: operands could not be broadcast together with shapes (0,) (4,)\n",
    "        # used the hint: daamn ;-( . It worked.\n",
    "        if metric <= 0.5: # if only a complete hexagonal nut\n",
    "            count +=1\n",
    "            M  = cv.moments(contour)\n",
    "            ca = M['m00']\n",
    "            cx, cy = int(M['m10']/M['m00']), int(M['m01']/M['m00'])\n",
    "            frame.append(np.array([cx, cy, ca, count]))\n",
    "    \n",
    "    video.append(frame)"
   ]
  },
  {
   "cell_type": "code",
   "execution_count": null,
   "id": "c11cc675-b907-417e-9189-76661738ccda",
   "metadata": {},
   "outputs": [],
   "source": [
    "video[0]"
   ]
  },
  {
   "cell_type": "code",
   "execution_count": null,
   "id": "fa762840-6ff2-4ad8-abc3-851354f45931",
   "metadata": {},
   "outputs": [],
   "source": [
    "video[1]"
   ]
  },
  {
   "cell_type": "code",
   "execution_count": null,
   "id": "e6200c9a-d0fa-4d7d-82ab-9342630a7837",
   "metadata": {},
   "outputs": [],
   "source": [
    "plt.figure()\n",
    "plt.imshow(cv.putText(contour_plots[43], \"Frame 43\", (250, 800), cv.FONT_HERSHEY_SIMPLEX, 2, (0,255,0), 3))\n",
    "plt.savefig(\"frame_43.PNG\")"
   ]
  },
  {
   "cell_type": "code",
   "execution_count": null,
   "id": "44a2d7cc-bcff-4ff6-bde0-20269c8935de",
   "metadata": {},
   "outputs": [],
   "source": [
    "# last element keeps the number of nuts in a given frame. \n",
    "# Therefore, initial number of nuts is as follows.\n",
    "total_nuts = int(video[0][-1][-1]) \n",
    "print(\"Number of nuts at the zeroth frame -> at the beginning: \",total_nuts)\n",
    "\n",
    "delta_x = np.array([15])\n",
    "i = np.array([0])\n",
    "\n",
    "prev_frame = video[0] # Reference frame to compare with the upcoming frame\n",
    "\n",
    "for frame_num in range(1, len(video)):\n",
    "    \n",
    "    current_frame = video[frame_num] # frame to be compared\n",
    "    \n",
    "    for nut in current_frame:\n",
    "        if is_new(prev_frame, nut, delta_x, i):\n",
    "            total_nuts +=1\n",
    "        \n",
    "    prev_frame = current_frame\n",
    "\n",
    "print(\"Number of nuts at the end of video: \",total_nuts)       "
   ]
  },
  {
   "cell_type": "code",
   "execution_count": null,
   "id": "76a716ab-1dcf-489e-ac22-2c3f636bf887",
   "metadata": {},
   "outputs": [],
   "source": [
    "# index of a particular nut in each frame is saved at the last element of object_prev_frame\n",
    "video[0]"
   ]
  },
  {
   "cell_type": "code",
   "execution_count": null,
   "id": "7fb510ae-168c-40f2-8501-44d08d49efa7",
   "metadata": {},
   "outputs": [],
   "source": [
    "video[100]"
   ]
  },
  {
   "cell_type": "code",
   "execution_count": null,
   "id": "010af845-a7c1-4686-bbb6-c8a83b506a02",
   "metadata": {},
   "outputs": [],
   "source": [
    "video[200]"
   ]
  },
  {
   "cell_type": "code",
   "execution_count": null,
   "id": "e82472a7-d752-4072-9898-259d70b346dc",
   "metadata": {},
   "outputs": [],
   "source": [
    "# trackig nuts\n",
    "total_nuts = int(video[0][-1][-1]) \n",
    "delta_x = np.array([15])\n",
    "i = np.array([0])\n",
    "\n",
    "prev_frame = video[0] # Reference frame to compare with the upcoming frame\n",
    "for frame_num in range(1, len(video)):\n",
    "    current_frame = video[frame_num] # frame to be compared\n",
    "    for nut in current_frame:\n",
    "        if is_new(prev_frame, nut, delta_x, i):\n",
    "            total_nuts +=1\n",
    "            nut[-1] = total_nuts # if it is a new nut assign a new index\n",
    "        else: # to be tracked the nut must not be a new nut\n",
    "            index_in_prev_frame = prev_index(prev_frame, nut, delta_x, i)\n",
    "            nut_index = prev_frame[int(index_in_prev_frame)][-1]\n",
    "            nut[-1] = nut_index\n",
    "        \n",
    "    prev_frame = current_frame"
   ]
  },
  {
   "cell_type": "code",
   "execution_count": null,
   "id": "a0c1d976-9603-4fb2-ae73-24258d14fa4e",
   "metadata": {},
   "outputs": [],
   "source": [
    "video[100]"
   ]
  },
  {
   "cell_type": "code",
   "execution_count": null,
   "id": "8084ee3b-18b7-4ff8-bd4f-5416684d85ef",
   "metadata": {},
   "outputs": [],
   "source": [
    "video[105]"
   ]
  },
  {
   "cell_type": "code",
   "execution_count": null,
   "id": "cdb859ce-0cf0-486f-8db4-a4e0fff17be4",
   "metadata": {},
   "outputs": [],
   "source": [
    "annotated_frames =[]\n",
    "frame_num = 0\n",
    "for frame, contour_plot in zip(video, contour_plots):\n",
    "    img = contour_plot\n",
    "    y = 0\n",
    "    for nut in frame:\n",
    "        img = cv.putText(img, str(int(nut[-1])) , (int(nut[0]),int(nut[1])),\\\n",
    "                         cv.FONT_HERSHEY_SIMPLEX, 2, (255,0,255), 4)\n",
    "        img = cv.putText(img, \"Object {}: {:04} {:04} {:05}\".format(int(nut[-1]), int(nut[0]), int(nut[1]), nut[2]),\\\n",
    "                         (50,850 + 70*y), cv.FONT_HERSHEY_SIMPLEX, 2, (255,0,255), 4)\n",
    "        y +=1\n",
    "    img = cv.putText(img, \"180631J\" , (50,150) , cv.FONT_HERSHEY_SIMPLEX, 2, (255,0,255), 3)\n",
    "    img = cv.putText(img, \"Frame \"+str(frame_num) , (50,750) , cv.FONT_HERSHEY_SIMPLEX, 2, (255,0,255), 3)\n",
    "    annotated_frames.append(img)\n",
    "    frame_num +=1\n",
    "    "
   ]
  },
  {
   "cell_type": "code",
   "execution_count": null,
   "id": "f8933471-42b1-4662-84d9-bf591b5d3ea4",
   "metadata": {},
   "outputs": [],
   "source": [
    "plt.imshow(annotated_frames[0])"
   ]
  },
  {
   "cell_type": "code",
   "execution_count": null,
   "id": "50afbac5-4226-4b4a-94fe-b93e9b16e52a",
   "metadata": {},
   "outputs": [],
   "source": [
    "plt.figure(figsize=(30,20))\n",
    "for i in range(9):\n",
    "    plt.subplot(3,3,i+1)\n",
    "    plt.imshow(annotated_frames[100 +i])\n",
    "plt.show()"
   ]
  },
  {
   "cell_type": "markdown",
   "id": "ee609c40-99b5-4836-b56a-0abe080ef6b7",
   "metadata": {},
   "source": [
    "### Save as a video https://docs.opencv.org/3.4/dd/d43/tutorial_py_video_display.html"
   ]
  },
  {
   "cell_type": "code",
   "execution_count": null,
   "id": "c176cbcc-c204-468a-9c72-dc3a4461f225",
   "metadata": {},
   "outputs": [],
   "source": [
    "# Define the codec and create VideoWriter object\n",
    "output = '180631j_en2550_a05.mp4'\n",
    "fourcc = cv.VideoWriter_fourcc(*'MP4V')\n",
    "duration = 9 # 9 second source video\n",
    "fps = int(len(annotated_frames)/duration)\n",
    "height, width,_ = annotated_frames[0].shape\n",
    "frame_size = (width, height)\n",
    "print('Frame Size(WxH) :', frame_size ,'\\nFrames Per Second :', fps)"
   ]
  },
  {
   "cell_type": "code",
   "execution_count": null,
   "id": "debc40f0-7577-4e2d-a8bf-aadbffac48b9",
   "metadata": {},
   "outputs": [],
   "source": [
    "out = cv.VideoWriter(output, fourcc, fps, frame_size, True)\n",
    "for frame in annotated_frames:\n",
    "    out.write(frame)\n",
    "# Release everything if job is finished\n",
    "out.release()"
   ]
  },
  {
   "cell_type": "code",
   "execution_count": null,
   "id": "24b048e9-9406-4273-bdcf-9997f852a229",
   "metadata": {},
   "outputs": [],
   "source": [
    "print(\"{:04}\".format(5))"
   ]
  },
  {
   "cell_type": "code",
   "execution_count": null,
   "id": "f9bfe27f-e0a3-4a4e-9e5c-333b94932ea1",
   "metadata": {},
   "outputs": [],
   "source": []
  }
 ],
 "metadata": {
  "kernelspec": {
   "display_name": "Python 3",
   "language": "python",
   "name": "python3"
  },
  "language_info": {
   "codemirror_mode": {
    "name": "ipython",
    "version": 3
   },
   "file_extension": ".py",
   "mimetype": "text/x-python",
   "name": "python",
   "nbconvert_exporter": "python",
   "pygments_lexer": "ipython3",
   "version": "3.9.5"
  }
 },
 "nbformat": 4,
 "nbformat_minor": 5
}
