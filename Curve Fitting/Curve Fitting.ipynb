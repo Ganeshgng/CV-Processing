{
 "cells": [
  {
   "cell_type": "code",
   "execution_count": 1,
   "id": "a4d49514-0b8d-4ffc-b5f4-fa824c688b0b",
   "metadata": {},
   "outputs": [],
   "source": [
    "import numpy as np\n",
    "import cv2 as cv\n",
    "import matplotlib.pyplot as plt\n",
    "%config IPCompleter.greedy=True\n",
    "%config Completer.use_jedi = False"
   ]
  },
  {
   "cell_type": "markdown",
   "id": "45b5812f-2790-468a-99c6-9650b621f40e",
   "metadata": {},
   "source": [
    "# Least Square Error"
   ]
  },
  {
   "cell_type": "code",
   "execution_count": 2,
   "id": "b784fdbb-8b0a-43a8-8fe1-5272238a4507",
   "metadata": {},
   "outputs": [
    {
     "name": "stdout",
     "output_type": "stream",
     "text": [
      "Real m and c values = 2, -1\n",
      "--------------------------------------------------\n",
      "Calculated m and c values =  [ 2.25184303 -1.35093661]\n"
     ]
    },
    {
     "data": {
      "image/png": "[encoded data removed]",
      "text/plain": [
       "<Figure size 432x288 with 1 Axes>"
      ]
     },
     "metadata": {
      "needs_background": "light"
     },
     "output_type": "display_data"
    }
   ],
   "source": [
    "\"\"\"\n",
    "Least square error fitting minimizing VERTICAL DISTANCE.\n",
    "\"\"\"\n",
    "x = np.arange(20)\n",
    "m = 2; c = -1\n",
    "print(\"Real m and c values = {}, {}\".format(m,c))\n",
    "y_true = m*x + c # real values\n",
    "plt.plot(x,y_true, color='r')\n",
    "\n",
    "print(\"-\"*50)\n",
    "y = y_true + np.random.normal(0,5,len(x)) # random values\n",
    "y[10] = 50; y[15] = 56 #  Effect of outlier\n",
    "plt.scatter(x,y)\n",
    "\n",
    "# finding unknowns using linear algebra direct method\n",
    "Y = y.T\n",
    "X = np.concatenate((x.reshape(len(x),1), np.ones((x.shape[0],1))), axis=1)\n",
    "B = np.linalg.inv(X.T@X)@X.T@Y\n",
    "print(\"Calculated m and c values = \",B)\n",
    "plt.plot(x, X.dot(B), color='g')\n",
    "plt.show()"
   ]
  },
  {
   "cell_type": "code",
   "execution_count": 3,
   "id": "af5909e1-2ebb-4a78-9fab-6c7bddb23f90",
   "metadata": {},
   "outputs": [
    {
     "name": "stdout",
     "output_type": "stream",
     "text": [
      "Real a and b values = 0.5, 0.8660254037844386\n",
      "Real d =  4\n",
      "--------------------------------------------------\n",
      "Calculated a and b values =  [0.53754814 0.84323306]\n",
      "Constraint: a^2 + b^2 = 1 -> 1.0\n",
      "Calculated d =  3.811551579610322\n"
     ]
    },
    {
     "data": {
      "image/png": "[encoded data removed]",
      "text/plain": [
       "<Figure size 432x288 with 1 Axes>"
      ]
     },
     "metadata": {
      "needs_background": "light"
     },
     "output_type": "display_data"
    }
   ],
   "source": [
    "\"\"\"\n",
    "Least square error fitting minimizing PERPENDICULAR DISTANCE.\n",
    "\"\"\"\n",
    "\n",
    "# constraints = a^2 + b^2 =1\n",
    "a = 0.5\n",
    "b = np.sqrt(1-a**2)\n",
    "print(\"Real a and b values = {}, {}\".format(a,b) )\n",
    "d = 4\n",
    "print(\"Real d = \", d)\n",
    "\n",
    "x = np.arange(20)\n",
    "y_true = (1/b)*(d- a*x)  # real values ax +by - d =0\n",
    "plt.plot(x,y_true, color='r')\n",
    "\n",
    "\n",
    "y = y_true + np.random.normal(0,2,len(x)) # random values\n",
    "#y[10] = 10; y[15] = 16 #  Effect of outlier\n",
    "plt.scatter(x,y)\n",
    "\n",
    "print(\"-\"*50)\n",
    "# finding unknowns using linear algebra direct method\n",
    "\n",
    "x_bar = np.mean(x)\n",
    "y_bar = np.mean(y)\n",
    "\n",
    "# A = np.concatenate((x.reshape(len(x),1),y.reshape(len(y),1)), axis=1)\n",
    "# print(A)\n",
    "\n",
    "A = np.concatenate((x.reshape(len(x),1),y.reshape(len(y),1)), axis=1) -np.array([x_bar,y_bar])\n",
    "#print(A)\n",
    "\n",
    "# Singular Value decomposition of A\n",
    "U, D, VT = np.linalg.svd(A.T.dot(A))\n",
    "# unit singular vector corresponding to the smallest \n",
    "# singular value, is the solution N. That is last column of V.\n",
    "# i.e. Last row of the V^T\n",
    "N =   VT[-1]\n",
    "print(\"Calculated a and b values = \", N)\n",
    "\n",
    "#calculated a and b through sigular value decomposition\n",
    "a_calc, b_calc = N\n",
    "print(\"Constraint: a^2 + b^2 = 1 ->\", a_calc**2+ b_calc**2)\n",
    "d = a_calc*x_bar + b_calc*y_bar\n",
    "print(\"Calculated d = \",d)\n",
    "\n",
    "y_calc = (1/b_calc)*(d- a_calc*x)\n",
    "plt.plot(x,y_calc, color='g')\n",
    "plt.show()"
   ]
  },
  {
   "cell_type": "markdown",
   "id": "2882af42-2514-4118-bb37-3164f0e1d2b9",
   "metadata": {},
   "source": [
    "# Other Robust Estimator"
   ]
  },
  {
   "cell_type": "code",
   "execution_count": null,
   "id": "32763b32-f200-4f31-bdc0-fe6cd63eca98",
   "metadata": {},
   "outputs": [],
   "source": []
  }
 ],
 "metadata": {
  "kernelspec": {
   "display_name": "Python 3",
   "language": "python",
   "name": "python3"
  },
  "language_info": {
   "codemirror_mode": {
    "name": "ipython",
    "version": 3
   },
   "file_extension": ".py",
   "mimetype": "text/x-python",
   "name": "python",
   "nbconvert_exporter": "python",
   "pygments_lexer": "ipython3",
   "version": "3.9.5"
  }
 },
 "nbformat": 4,
 "nbformat_minor": 5
}
