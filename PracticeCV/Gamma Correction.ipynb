{
 "cells": [
  {
   "cell_type": "code",
   "execution_count": 1,
   "metadata": {},
   "outputs": [],
   "source": [
    "import cv2 as cv\n",
    "import matplotlib.pyplot as plt\n",
    "import numpy as np\n",
    "\n",
    "img = cv.imread('Lenna.png' ,cv.IMREAD_COLOR)\n",
    "cv.namedWindow(\"Image\", cv.WINDOW_AUTOSIZE)\n",
    "cv.imshow(\"Image\", img)\n",
    "cv.waitKey(0)\n",
    "\n",
    "\n",
    "gamma = 2\n",
    "table = np.array([(i/255.0)**(gamma)*255.0 for i in np.arange(0,256)]).astype('uint8')\n",
    "img_gamma = cv.LUT(img, table)\n",
    "\n",
    "\n",
    "\n",
    "cv.namedWindow(\"Gamma Corrected\", cv.WINDOW_AUTOSIZE)\n",
    "cv.imshow(\"Gamma Corrected\", img_gamma)\n",
    "cv.waitKey(0)\n",
    "cv.destroyAllWindows()"
   ]
  },
  {
   "cell_type": "code",
   "execution_count": null,
   "metadata": {},
   "outputs": [],
   "source": []
  }
 ],
 "metadata": {
  "kernelspec": {
   "display_name": "Python 3",
   "language": "python",
   "name": "python3"
  },
  "language_info": {
   "codemirror_mode": {
    "name": "ipython",
    "version": 3
   },
   "file_extension": ".py",
   "mimetype": "text/x-python",
   "name": "python",
   "nbconvert_exporter": "python",
   "pygments_lexer": "ipython3",
   "version": "3.9.0"
  }
 },
 "nbformat": 4,
 "nbformat_minor": 4
}
