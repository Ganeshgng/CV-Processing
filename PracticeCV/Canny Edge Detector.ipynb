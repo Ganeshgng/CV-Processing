{
 "cells": [
  {
   "cell_type": "markdown",
   "metadata": {},
   "source": [
    "# The Canny edge detector\n",
    "\n",
    "Canny suggested that the ratio of the high to low threshold should be two or three to one."
   ]
  },
  {
   "cell_type": "code",
   "execution_count": 1,
   "metadata": {},
   "outputs": [],
   "source": [
    "import cv2 as cv\n",
    "import numpy as np\n",
    "import math\n",
    "\n",
    "title_window = 'Canny'\n",
    "hi_threshold_max = 255\n",
    "\n",
    "ratio = 1/3 \n",
    "hi_threshold = 255\n",
    "low_threshold = math.floor(hi_threshold*ratio)\n",
    "\n",
    "def on_trackbar(val):\n",
    "    hi_threshold = cv.getTrackbarPos(trackbar1_name, title_window)\n",
    "    ratio = cv.getTrackbarPos(trackbar2_name, title_window)/100.\n",
    "    low_threshold = hi_threshold*ratio\n",
    "    edges = cv.Canny(img, low_threshold, hi_threshold)\n",
    "    cv.imshow(title_window, edges)\n",
    "\n",
    "img = cv.imread('Lenna.png', cv.IMREAD_COLOR)\n",
    "\n",
    "cv.namedWindow(title_window)\n",
    "trackbar1_name = 'High Threshold Value'\n",
    "trackbar2_name = 'Low Threshold %'\n",
    "cv.createTrackbar(trackbar1_name, title_window, hi_threshold, hi_threshold_max, on_trackbar)\n",
    "cv.createTrackbar(trackbar2_name, title_window,1,100, on_trackbar)\n",
    "on_trackbar(hi_threshold)\n",
    "cv.waitKey()\n",
    "cv.destroyAllWindows()\n",
    "\n"
   ]
  },
  {
   "cell_type": "code",
   "execution_count": null,
   "metadata": {},
   "outputs": [],
   "source": []
  }
 ],
 "metadata": {
  "kernelspec": {
   "display_name": "Python 3",
   "language": "python",
   "name": "python3"
  },
  "language_info": {
   "codemirror_mode": {
    "name": "ipython",
    "version": 3
   },
   "file_extension": ".py",
   "mimetype": "text/x-python",
   "name": "python",
   "nbconvert_exporter": "python",
   "pygments_lexer": "ipython3",
   "version": "3.9.0"
  }
 },
 "nbformat": 4,
 "nbformat_minor": 4
}
