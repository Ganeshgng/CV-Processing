{
 "metadata": {
  "language_info": {
   "codemirror_mode": {
    "name": "ipython",
    "version": 3
   },
   "file_extension": ".py",
   "mimetype": "text/x-python",
   "name": "python",
   "nbconvert_exporter": "python",
   "pygments_lexer": "ipython3",
   "version": "3.9.0-final"
  },
  "orig_nbformat": 2,
  "kernelspec": {
   "name": "python3",
   "display_name": "Python 3.9.0 64-bit",
   "metadata": {
    "interpreter": {
     "hash": "cba790f90a5c1693da64949815872a1391a216ed3eb293d49638652b557fa5c0"
    }
   }
  }
 },
 "nbformat": 4,
 "nbformat_minor": 2,
 "cells": [
  {
   "source": [
    "# The Canny edge detector\n",
    "\n",
    "Canny suggested that the ratio of the high to low threshold should be two or three to one."
   ],
   "cell_type": "markdown",
   "metadata": {}
  },
  {
   "cell_type": "code",
   "execution_count": null,
   "metadata": {},
   "outputs": [],
   "source": [
    "import cv2 as cv\n",
    "import numpy as np\n",
    "import math\n",
    "\n",
    "title_window = 'Canny'\n",
    "hi_threshold_max = 255\n",
    "\n",
    "ratio = 1/3 \n",
    "hi_threshold = 255\n",
    "low_threshold = math.floor(hi_threshold*ratio)\n",
    "\n",
    "def on_trackbar(val):\n",
    "    hi_threshold = cv.getTrackbarPos(trackbar1_name, title_window)\n",
    "    ratio = cv.getTrackbarPos(trackbar2_name, title_window)/100.\n",
    "    low_threshold = hi_threshold*ratio\n",
    "    edges = cv.Canny(img, low_threshold, hi_threshold)\n",
    "    cv.imshow(title_window, edges)\n",
    "\n",
    "img = cv.imread('Lenna.png', cv.IMREAD_COLOR)\n",
    "\n",
    "cv.namedWindow(title_window)\n",
    "trackbar1_name = 'High Threshold Value'\n",
    "trackbar2_name = 'Low Threshold %'\n",
    "cv.createTrackbar(trackbar1_name, title_window, hi_threshold, hi_threshold_max, on_trackbar)\n",
    "cv.createTrackbar(trackbar2_name, title_window,1,100, on_trackbar)\n",
    "on_trackbar(hi_threshold)\n",
    "cv.waitKey()\n",
    "cv.destroyAllWindows()\n",
    "\n"
   ]
  },
  {
   "cell_type": "code",
   "execution_count": null,
   "metadata": {},
   "outputs": [],
   "source": []
  }
 ]
}