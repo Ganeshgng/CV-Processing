{
 "cells": [
  {
   "cell_type": "code",
   "execution_count": 5,
   "metadata": {},
   "outputs": [],
   "source": [
    "%config IPCompleter.greedy=True\n",
    "%config Completer.use_jedi = False"
   ]
  },
  {
   "cell_type": "code",
   "execution_count": 18,
   "metadata": {},
   "outputs": [],
   "source": [
    "# Download all the point cloud from the soruce website: run this once\n",
    "import wget\n",
    "with open(\"pointClouds/source.txt\") as source:\n",
    "    for line in source.readlines():\n",
    "        name = line.strip()\n",
    "        link = \"https://people.sc.fsu.edu/~jburkardt/data/ply/\" + name\n",
    "        wget.download(link, out =\"pointClouds/\"+name )"
   ]
  },
  {
   "cell_type": "code",
   "execution_count": 1,
   "metadata": {},
   "outputs": [],
   "source": [
    "# https://people.sc.fsu.edu/~jburkardt/data/ply/ply.html\n",
    "# https://stackoverflow.com/questions/50965673/python-display-3d-point-cloud\n",
    "%matplotlib inline\n",
    "%config IPCompleter.greedy=True\n",
    "%config Completer.use_jedi = False\n",
    "import numpy as np\n",
    "import open3d as o3d\n",
    "import numpy.matlib\n",
    "import scipy\n",
    "import matplotlib.pyplot as plt"
   ]
  },
  {
   "cell_type": "code",
   "execution_count": null,
   "metadata": {},
   "outputs": [],
   "source": [
    "pcd = o3d.io.read_point_cloud(\"airplane.ply\") # Read the point cloud\n",
    "print(pcd)\n",
    "points = np.asarray(pcd.points)\n",
    "# points = points[0:5, :]\n",
    "print(points.shape)\n",
    "o3d.visualization.draw_geometries([pcd])\n",
    "fig, ax = plt.subplots(1,1, sharex=True, sharey=True)\n",
    "# ax.scatter(points[:,0], points[:,1])\n",
    "ones = np.ones((points.shape[0], 1))\n",
    "points = np.concatenate((points, ones), axis=1)\n",
    "P = np.array([[1., 0., 0., 0.],\n",
    "[0., 1., 0., 0.],\n",
    "[0., 0., 1., 0.]])\n",
    "# Rotation matrix R is an orthonormal marix\n",
    "R = np.array([[1., 0., 0.],\n",
    "[0., 1., 0.],\n",
    "[0., 0., 1.]])\n",
    "K = np.array([[1., 0., 0.],\n",
    "[0., 1., 0.],\n",
    "[0., 0., 1.]])\n",
    "t = np.array([[0.],\n",
    "              1[0.],\n",
    "              [-4000.]])\n",
    "P1 = np.matmul(K, np.concatenate((R, t), axis=1))# P = K[R|t] = K[R|-RC]\n",
    "R = np.array([[0., 1., 0.],\n",
    "[1., 0., 0.],\n",
    "[0., 0., 1.]])\n",
    "K = np.array([[2., 0., 0.],\n",
    "[0., 2., 0.],\n",
    "[0., 0., 1.]])\n",
    "P2 = np.matmul(K, np.concatenate((R, t), axis=1))\n",
    "transfromed = np.matmul(P1, points.T).T\n",
    "print(transfromed)\n",
    "transfromed = transfromed/np.matlib.repmat(transfromed[:,2], 3, 1).T\n",
    "ax.scatter(transfromed[:,0], transfromed[:,1])\n",
    "transfromed = np.matmul(P2, points.T).T\n",
    "transfromed = transfromed/np.matlib.repmat(transfromed[:,2], 3, 1).T\n",
    "ax.scatter(transfromed[:,0], transfromed[:,1])\n",
    "ax.axis('equal')\n",
    "plt.show()\n",
    "\n",
    " np.set_printoptions(precision=4)\n",
    "print('P1\\n', P1)\n",
    "print('P2\\n', P2)\n",
    "\n",
    ": # RQ Decomposition\n",
    "# http://ksimek.github.io/2012/08/14/decompose/\n",
    "def rq(M):\n",
    "Q, R = np.linalg.qr(np.flipud(M).T)\n",
    "# print(Q)\n",
    "# print(R)\n",
    "R = np.flipud(R.T)\n",
    "R = np.fliplr(R)\n",
    "Q = Q.T;\n",
    "Q = np.flipud(Q)\n",
    "return R, Q"
   ]
  },
  {
   "cell_type": "code",
   "execution_count": null,
   "metadata": {},
   "outputs": [],
   "source": [
    "# P = [M|-MC]\n",
    "# P = K[R|-RC]\n",
    "M = P2[:, 0:3]\n",
    "C = np.linalg.inv(M)@P1[:,3] # camera center in world coordinates\n",
    "K, R = rq(M)\n",
    "K, R = scipy.linalg.rq(M)\n",
    "# make diagonal of K positive\n",
    "T = np.diag(np.sign(np.diag(K)));\n",
    "K = K @ T;\n",
    "R = T @ R; # (T is its own inverse)\n",
    "print(K)\n",
    "print(R)"
   ]
  },
  {
   "cell_type": "code",
   "execution_count": null,
   "metadata": {},
   "outputs": [],
   "source": [
    " # make diagonal of K positive\n",
    "T = np.diag(np.sign(np.diag(K)));\n",
    "K = K @ T;\n",
    "R = T @ R; # (T is its own inverse)\n",
    "print(K)\n",
    "print(R)"
   ]
  },
  {
   "cell_type": "code",
   "execution_count": null,
   "metadata": {},
   "outputs": [],
   "source": [
    "# P from Hartley and Zisserman Example 6.2\n",
    "Phz = np.array(\n",
    "[[3.53553e+2, 3.39645e+2, 2.77744e+2, -1.44946e+6],\n",
    "[-1.03528e+2, 2.33212e+1, 4.59607e+2, -6.32525e+5],\n",
    "[7.07107e-1, -3.53553e-1, 6.12372e-1, -9.18559e+2]])"
   ]
  },
  {
   "cell_type": "code",
   "execution_count": null,
   "metadata": {},
   "outputs": [],
   "source": [
    "# P = [M|-MC]\n",
    "# P = K[R|-RC]\n",
    "M = Phz[:, 0:3]\n",
    "C = -np.linalg.inv(M)@Phz[:,3] # camera center in world coordinates\n",
    "K, R = rq(M)\n",
    "K, R = scipy.linalg.rq(M)\n",
    "# make diagonal of K positive\n",
    "T = np.diag(np.sign(np.diag(K)));\n",
    "K = K @ T;\n",
    "R = T @ R; # (T is its own inverse)\n",
    "print(C)\n",
    "print(K)\n",
    "print(R)"
   ]
  },
  {
   "cell_type": "code",
   "execution_count": null,
   "metadata": {},
   "outputs": [],
   "source": []
  }
 ],
 "metadata": {
  "kernelspec": {
   "display_name": "Python 3",
   "language": "python",
   "name": "python3"
  },
  "language_info": {
   "codemirror_mode": {
    "name": "ipython",
    "version": 3
   },
   "file_extension": ".py",
   "mimetype": "text/x-python",
   "name": "python",
   "nbconvert_exporter": "python",
   "pygments_lexer": "ipython3",
   "version": "3.7.9"
  }
 },
 "nbformat": 4,
 "nbformat_minor": 4
}
